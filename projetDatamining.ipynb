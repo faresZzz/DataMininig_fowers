{
 "cells": [
  {
   "cell_type": "markdown",
   "metadata": {},
   "source": [
    "# Import of python library\n"
   ]
  },
  {
   "cell_type": "code",
   "execution_count": null,
   "metadata": {},
   "outputs": [],
   "source": [
    "import os\n",
    "import pandas as pd\n",
    "import numpy as np\n",
    "import matplotlib.pyplot as plt\n",
    "import sklearn.cluster\n",
    "from PIL import Image\n",
    "import math\n",
    "\n",
    "from sklearn.preprocessing import LabelEncoder\n",
    "from sklearn import tree\n",
    "from sklearn.tree import DecisionTreeClassifier ,export_graphviz\n",
    "\n",
    "from IPython.display import display\n",
    "import random\n"
   ]
  },
  {
   "cell_type": "markdown",
   "metadata": {},
   "source": [
    "## 1. Creation of the color bank\n"
   ]
  },
  {
   "cell_type": "code",
   "execution_count": null,
   "metadata": {},
   "outputs": [],
   "source": [
    "\n",
    "# charging the color bank from the CSV file\n",
    "names=[\"Color name\", \"RGB\", \"HEX\"]\n",
    "with open(\"./colorPalette.csv\", \"r\") as file:\n",
    "    lines = file.read().splitlines()\n",
    "    lines = lines[1:]\n",
    "    for i,line in enumerate(lines):\n",
    "        line = line.split(\"\\t\")\n",
    "        r = int (line[1].split(\",\")[0].split(\"(\")[1])\n",
    "        g = int (line[1].split(\",\")[1])\n",
    "        b = int (line[1].split(\",\")[2].split(\")\")[0])\n",
    "       \n",
    "        line[1] = (r, g, b)\n",
    "        lines[i] = line\n",
    "colorBank = pd.DataFrame(lines, columns=names)   "
   ]
  },
  {
   "cell_type": "code",
   "execution_count": null,
   "metadata": {},
   "outputs": [],
   "source": [
    "# Normalize to the nearrest color from our color bank to limit the nuances of color (almost infinit with our kmeans method)\n",
    "def distanceCalcul(color1, color2):\n",
    "    return math.sqrt( (color2[0]-color1[0])**2 + (color2[1]-color1[1])**2 + (color2[2]-color1[2])**2)\n",
    "\n",
    "def colorNormalisation(paletteColor: pd.DataFrame , color : tuple) -> str:\n",
    "    distanceMin = math.inf\n",
    "    \n",
    "    for index in paletteColor.index:\n",
    "        distance = distanceCalcul(paletteColor[\"RGB\"][index], color)\n",
    "        if (distance < distanceMin):\n",
    "            distanceMin = distance\n",
    "            colordistancemin = paletteColor[\"Color name\"][index]\n",
    "    \n",
    "    return colordistancemin\n",
    "\n",
    "# print(colorNormalisation(colorPalette, (44, 143,163)))\n"
   ]
  },
  {
   "cell_type": "markdown",
   "metadata": {},
   "source": [
    "# 2. Preparation of the dataset Images\n"
   ]
  },
  {
   "cell_type": "markdown",
   "metadata": {},
   "source": [
    "## Exctraction of the images files\n"
   ]
  },
  {
   "cell_type": "code",
   "execution_count": null,
   "metadata": {},
   "outputs": [],
   "source": [
    "rootDirectory = \"./flowers\"\n",
    "# for all images the path will be rootDirectory / plantName /file  example ./flowers/jpeg-192x192/train/alpine sea holly/11331.jpeg\n",
    "\n",
    "\n",
    "subdir = []\n",
    "informationsOnImages = []\n",
    "for repo, subrepos, files in os.walk(rootDirectory):\n",
    "    subdir.append(subrepos)\n",
    "    # filelist.append(files)\n",
    "\n",
    "print(subdir[0])\n",
    "for dir in subdir[0]:\n",
    "  \n",
    "    # for all images the path will be rootDirectory / plantName /file  || example ./flowers/jpeg-192x192/train/alpine sea holly/11331.jpeg\n",
    "\n",
    "    filelist = []\n",
    "    namelist = []\n",
    "    for repo, subrepos, files in os.walk(\"{}/{}/train\".format(rootDirectory, dir)):\n",
    "        namelist.append(subrepos)\n",
    "        filelist.append(files)\n",
    "\n",
    "    namelist = namelist[0]\n",
    "    filelist = filelist[1:]\n",
    "\n",
    "    \n",
    "    \n",
    "\n",
    "    for name, files  in zip(namelist, filelist):\n",
    "            for i, image in enumerate( files) :\n",
    "                # limite at 10 images by type for the need of the test (1040 images out of 12000)\n",
    "                if i < 10:                                                              \n",
    "                    informationsOnImages.append({\"size\": int(dir[9:]), \"name\":name, \"file\":image, \"color1\":\"\", \"color2\": \"\", \"color3\": \"\"})\n",
    "                else:\n",
    "                    break\n",
    "            \n",
    "datasetImages = pd.DataFrame(informationsOnImages)\n",
    "\n",
    "# datasetImages\n"
   ]
  },
  {
   "cell_type": "markdown",
   "metadata": {},
   "source": [
    "## Extraction of principal colors\n"
   ]
  },
  {
   "cell_type": "code",
   "execution_count": null,
   "metadata": {},
   "outputs": [],
   "source": [
    "\n",
    "nb_cluster = 5\n",
    "for index, row in datasetImages.iterrows():\n",
    "\n",
    "    imgfile = Image.open(\n",
    "        \"{root}/jpeg-{size}x{size}/train/{type}/{file}\".format(\n",
    "            root = rootDirectory,\n",
    "            size = row[\"size\"], \n",
    "            type = row[\"name\"], \n",
    "            file = row[\"file\"]\n",
    "            )\n",
    "        )\n",
    "    \n",
    "    # extraction of 5 main color\n",
    "    numarray = np.array(imgfile.getdata(), np.float64)\n",
    "    clusters = sklearn.cluster.MiniBatchKMeans(n_clusters= nb_cluster)\n",
    "    clusters.fit(numarray)\n",
    "\n",
    "    # ordering the colors\n",
    "    npbins = np.arange(0, nb_cluster + 1)\n",
    "    histogram = np.histogram(clusters.labels_, bins=npbins)\n",
    "    palette = clusters.cluster_centers_\n",
    "    indicesMax = histogram[0].argsort()\n",
    "\n",
    "    # add the 3 main colors normalized into the datasetImage\n",
    "    datasetImages.loc[index, \"color1\"] = colorNormalisation(colorBank, palette[indicesMax[-1]])\n",
    "    datasetImages.loc[index, \"color2\"] = colorNormalisation(colorBank, palette[indicesMax[-2]])\n",
    "    datasetImages.loc[index, \"color3\"] = colorNormalisation(colorBank, palette[indicesMax[-3]])   \n",
    "    imgfile.close() \n",
    "\n",
    "       \n",
    "# datasetImages.head(15)"
   ]
  },
  {
   "cell_type": "markdown",
   "metadata": {},
   "source": [
    "## Save the dataset into json file to avoid making the Kmeans each time\n"
   ]
  },
  {
   "cell_type": "code",
   "execution_count": null,
   "metadata": {},
   "outputs": [],
   "source": [
    "# save the dataframe to json File to avoid having to execute MinibatchKmeans\n",
    "datasetImages.to_json(path_or_buf=\"./data.json\", orient=\"index\")"
   ]
  },
  {
   "cell_type": "markdown",
   "metadata": {},
   "source": [
    "# 3. Creation of the classes\n"
   ]
  },
  {
   "cell_type": "markdown",
   "metadata": {},
   "source": [
    "## To load the Dataset from json file\n"
   ]
  },
  {
   "cell_type": "code",
   "execution_count": null,
   "metadata": {},
   "outputs": [],
   "source": [
    "# Extract data from json file to load the dataframe with colors\n",
    "datasetImages = pd.read_json(path_or_buf=\"./data.json\", orient=\"index\")\n",
    "print(datasetImages)"
   ]
  },
  {
   "cell_type": "markdown",
   "metadata": {},
   "source": [
    "# Creation of the users class\n"
   ]
  },
  {
   "cell_type": "code",
   "execution_count": null,
   "metadata": {},
   "outputs": [],
   "source": [
    "class user:\n",
    "    \n",
    "    def __init__(self, age = None, sex = None, preferredColor=None):\n",
    "\n",
    "        # 'equivalent of java surcharge function'\n",
    "        # 2 ways to create users \n",
    "        # normal user we ask the user his values as input \n",
    "        # fake user of testing process we can pass values\n",
    "        if age == None:\n",
    "            self.__age = self.setAge()\n",
    "        else: \n",
    "            self.__age = age\n",
    "\n",
    "        if sex == None:\n",
    "            self.__sex = self.setSex()\n",
    "        else: \n",
    "            self.__sex = sex\n",
    "\n",
    "        if  preferredColor == None:\n",
    "            self.__preferredColor = self.setpreferredColor()\n",
    "        else:\n",
    "            self.__preferredColor = preferredColor\n",
    "\n",
    "        self.__likedImages = pd.DataFrame()\n",
    "        self.__unlikedImages = pd.DataFrame()\n",
    "        self.__decisionTree = tree.DecisionTreeClassifier()\n",
    "\n",
    "    def setAge(self):\n",
    "        ok = False\n",
    "        while not ok:\n",
    "            age = input(\"What is your age: \")\n",
    "            if age.isnumeric():\n",
    "                age = int(age)\n",
    "                ok = True\n",
    "        return age\n",
    "    def setSex(self):\n",
    "        sex = \"\"\n",
    "        while sex not in (\"M\", \"F\"):\n",
    "            sex = input(\"Please select sex (M/F):\").upper()\n",
    "        return sex\n",
    "\n",
    "\n",
    "    def setpreferredColor(self):\n",
    "        # user can select his prefered color in our colorBank(137 colors)\n",
    "        print(colorBank[\"Color name\"])\n",
    "        preferredColor = \"\"\n",
    "        while preferredColor not in map(str.lower, colorBank[\"Color name\"].values):\n",
    "            preferredColor = input(\"Please select your preferred color in the list above\").lower()\n",
    "        \n",
    "        return preferredColor\n",
    "\n",
    "    def addImagesHistory(self, images:pd.DataFrame, notation:list):\n",
    "        images = images.reset_index(drop=True)\n",
    "        \n",
    "        for index, image in images.iterrows():\n",
    "            if notation[index] == \"y\":\n",
    "                self.__likedImages = self.__likedImages.append(image)\n",
    "            else:\n",
    "                self.__unlikedImages = self.__unlikedImages.append(image)\n",
    "        self.__likedImages[\"like\"] = 1\n",
    "        self.__unlikedImages[\"like\"] = 0\n",
    "            \n",
    "\n",
    "    def getAge(self):\n",
    "        return self.__age\n",
    "    \n",
    "    def getSex(self):\n",
    "        return self.__sex\n",
    "\n",
    "    def getPreferredColor(self):\n",
    "        return self.__preferredColor\n",
    "\n",
    "    def getLikedImages(self):\n",
    "        return self.__likedImages.drop([\"like\"], axis=1)\n",
    "\n",
    "    def getUnlikedImages(self):\n",
    "        return self.__unlikedImages.drop([\"like\"], axis=1)    \n",
    "\n",
    "   \n",
    "\n",
    "    def trainDecisionTree(self):\n",
    "        # creation of the trainset  with the historique of all images that has been view by user\n",
    "        trainImages = self.__likedImages.append(self.__unlikedImages, ignore_index=True)\n",
    "\n",
    "        # shuffle the trainset\n",
    "        trainImages = trainImages.iloc[np.random.permutation(len (trainImages))]\n",
    "\n",
    "        # get the result from the trainset (1 or 0 for lliked or disliked)\n",
    "        result = trainImages[\"like\"]\n",
    "\n",
    "        # drop the columns that doesn't count in the fitting\n",
    "        trainImages = trainImages.drop([\"file\", \"like\"], axis=1)\n",
    "        trainImages = trainImages.reset_index(drop=True)\n",
    "\n",
    "        # fitting\n",
    "        self.__decisionTree = self.__decisionTree.fit(trainImages, result)\n",
    "\n",
    "    def printDecisionTree(self):\n",
    "\n",
    "        tree.plot_tree(self.__decisionTree)\n",
    "\n",
    "\n",
    "\n",
    "    def predictLikedImages(self, images):\n",
    "        # make a prediction on like or not of the images presented\n",
    "        return self.__decisionTree.predict(images)\n",
    "\n",
    "\n"
   ]
  },
  {
   "cell_type": "markdown",
   "metadata": {},
   "source": [
    "# Creation of the recommendation System\n"
   ]
  },
  {
   "cell_type": "code",
   "execution_count": null,
   "metadata": {},
   "outputs": [],
   "source": [
    "class recommendationSystem:\n",
    "    def __init__(self, Images: pd.DataFrame):\n",
    "        self.listUser = pd.DataFrame()\n",
    "        self.datasetImages = Images\n",
    "        self.LabelEncoder = self.createLabelEncoder()\n",
    "        self.datasetImagesEncoded = self.fitEncodeLabels(self.datasetImages.copy())\n",
    "        self.fitEncodeResults([\"n\", \"y\"])\n",
    "\n",
    "    ## fonctions to code and decode the pd.DataFrame \n",
    "    def createLabelEncoder(self) -> None:\n",
    "        leName = LabelEncoder()\n",
    "        leTaille = LabelEncoder()\n",
    "        leColor1 = LabelEncoder()\n",
    "        leColor2= LabelEncoder()\n",
    "        leColor3 = LabelEncoder()\n",
    "        leResult = LabelEncoder()\n",
    "        return {\n",
    "            \"name\" : leName, \n",
    "            \"size\" : leTaille, \n",
    "            \"color1\" : leColor1, \n",
    "            \"color2\" : leColor2, \n",
    "            \"color3\" : leColor3, \n",
    "            \"result\" : leResult\n",
    "            }\n",
    "\n",
    "\n",
    "    def fitEncodeLabels(self, sets:pd.DataFrame) -> pd.DataFrame:\n",
    "        sets[\"name\"] = self.LabelEncoder[\"name\"].fit_transform(sets[\"name\"])\n",
    "        sets[\"size\"] = self.LabelEncoder[\"size\"].fit_transform(sets[\"size\"])\n",
    "        sets[\"color1\"] = self.LabelEncoder[\"color1\"].fit_transform(sets[\"color1\"])\n",
    "        sets[\"color2\"] = self.LabelEncoder[\"color2\"].fit_transform(sets[\"color2\"])\n",
    "        sets[\"color3\"] = self.LabelEncoder[\"color3\"].fit_transform(sets[\"color3\"])\n",
    "\n",
    "        return sets\n",
    "\n",
    "    def fitEncodeResults(self, result: list) -> None:\n",
    "        self.LabelEncoder[\"result\"].fit_transform(result)\n",
    "\n",
    "    \n",
    "    def encodeLabels(self, sets:pd.DataFrame) -> pd.DataFrame:\n",
    "        sets[\"name\"] = self.LabelEncoder[\"name\"].transform(sets[\"name\"])\n",
    "        sets[\"size\"] = self.LabelEncoder[\"size\"].transform(sets[\"size\"])\n",
    "        sets[\"color1\"] = self.LabelEncoder[\"color1\"].transform(sets[\"color1\"])\n",
    "        sets[\"color2\"] = self.LabelEncoder[\"color2\"].transform(sets[\"color2\"])\n",
    "        sets[\"color3\"] = self.LabelEncoder[\"color3\"].transform(sets[\"color3\"])\n",
    "\n",
    "        return sets\n",
    "\n",
    "    def decodeLabels(self,sets:pd.DataFrame ) -> pd.DataFrame:\n",
    "        sets[\"name\"] = self.LabelEncoder[\"name\"].inverse_transform(sets[\"name\"])\n",
    "        sets[\"size\"] = self.LabelEncoder[\"size\"].inverse_transform(sets[\"size\"])\n",
    "        sets[\"color1\"] = self.LabelEncoder[\"color1\"].inverse_transform(sets[\"color1\"])\n",
    "        sets[\"color2\"] = self.LabelEncoder[\"color2\"].inverse_transform(sets[\"color2\"])\n",
    "        sets[\"color3\"] = self.LabelEncoder[\"color3\"].inverse_transform(sets[\"color3\"])\n",
    "\n",
    "        return sets\n",
    "\n",
    "    def encodeResults(self, result: list) -> list:\n",
    "        return self.LabelEncoder[\"result\"].transform(result)\n",
    "\n",
    "    def decodeResults(self, result:list) -> list:\n",
    "        return self.LabelEncoder[\"result\"].inverse_transform(result)\n",
    "\n",
    "    def addUserToList(self, newUser:user):\n",
    "        # for add an user to our data base\n",
    "        self.listUser = self.listUser.append(pd.DataFrame([\n",
    "                {\n",
    "                    \"user\": newUser,\n",
    "                    \"age\":newUser.getAge(), \n",
    "                    \"sex\": newUser.getSex(), \n",
    "                    \"color\": newUser.getPreferredColor()\n",
    "                }\n",
    "            ]), ignore_index=True)\n",
    "\n",
    "    def createSpecialUser(self, numberOfSimulatedImages:int)-> user:\n",
    "        #creation of the user\n",
    "        age = random.randint(10,90),\n",
    "        sex = random.choice([\"M\", \"F\"])\n",
    "        preferredColor = random.choice(colorBank[\"Color name\"])\n",
    "        newUser = user(age=age, sex=sex, preferredColor=preferredColor)\n",
    "        self.addUserToList(newUser=newUser)\n",
    "\n",
    "        # simulate the choice of 50 images\n",
    "        imageslist = self.datasetImagesEncoded.sample(numberOfSimulatedImages)\n",
    "        result = random.choices([\"y\", \"n\"] , k=numberOfSimulatedImages)\n",
    "        \n",
    "        # add alls theses images to the history of the user\n",
    "        newUser.addImagesHistory(imageslist, result)\n",
    "        # train the Decision tree \n",
    "        newUser.trainDecisionTree()\n",
    "        return newUser\n",
    "   \n",
    "    def createUser(self) -> user:\n",
    "        # create the user parsing parameter for the false user or the test\n",
    "        newUser = user()\n",
    "        # ask the user a first round of images\n",
    "        self.askFirstImages(newUser)\n",
    "        # add the user to our database of users\n",
    "        self.addUserToList(newUser=newUser)\n",
    "        return newUser\n",
    "\n",
    "\n",
    "    def getImages(self, imageslist, client:user) -> None:\n",
    "        \n",
    "        rootDirectory = \"./flowers\"\n",
    "        result = []\n",
    "        for index, image in imageslist.iterrows():\n",
    "            # opening each images to propose to the user\n",
    "            imgfile = Image.open(\n",
    "                \"{root}/jpeg-{size}x{size}/train/{type}/{file}\".format(\n",
    "                    root = rootDirectory,\n",
    "                    size = image[\"size\"], \n",
    "                    type = image[\"name\"], \n",
    "                    file = image[\"file\"]\n",
    "                    )\n",
    "                )\n",
    "            \n",
    "            display(imgfile)\n",
    "            valid = False\n",
    "            # get the user response on the image (force the response format) \n",
    "            while not valid:\n",
    "                    userLike = input(\"Do you like this image? (y/n)\").lower()\n",
    "                    if (userLike == \"y\" or userLike == \"n\"):\n",
    "                        valid = True\n",
    "                        result.append(userLike)\n",
    "         \n",
    "            imgfile.close()\n",
    "            # for proc in psutil.process_iter():\n",
    "            #     if proc.name() == \"display\":\n",
    "            #         proc.kill()\n",
    "\n",
    "        # recode the images to give to the fitting function\n",
    "        imageslist = self.encodeLabels(imageslist)\n",
    "        # add alls theses imges to the history of the user\n",
    "        client.addImagesHistory(imageslist, result)\n",
    "        # train the Decision tree \n",
    "        client.trainDecisionTree()\n",
    "       \n",
    "\n",
    "    def askFirstImages(self, client:user):\n",
    "        firstImages = pd.DataFrame()\n",
    "        age = client.getAge()\n",
    "        sex = client.getSex()\n",
    "\n",
    "        # selecting a sample of images to present to the user for the first time \n",
    "        try:\n",
    "            # can add the preferred color \n",
    "            # could be better not to selected directly in people with the same age and sex but to do\n",
    "            # a collaborative filtering, but real data are needed for this king of ML random data will give \n",
    "            # absurd values\n",
    "            similarUsers = self.listUser[( abs(self.listUser[\"age\"]-age) < 5 ) & (self.listUser[\"sex\"] == sex)]\n",
    "            for user in similarUsers:\n",
    "                firstImages = firstImages.append(user.getLikedImages())\n",
    "\n",
    "            if len(firstImages[\"file\"]) > 15:\n",
    "                firstImages = firstImages.sample(15)\n",
    "\n",
    "        except:\n",
    "            firstImages = self.datasetImagesEncoded.sample(15)\n",
    "\n",
    "        # decoding the table to can be able to get the path\n",
    "        firstImages = self.decodeLabels(firstImages)\n",
    "        \n",
    "        # calling the display function to get user preferences\n",
    "        self.getImages(imageslist=firstImages, client=client)\n",
    "\n",
    "    \n",
    "\n",
    "    def askNewImages(self, client: user, numberOfImagesMax:int) -> None:\n",
    "        imagesPredictedLike = pd.DataFrame()\n",
    "        imagesPredictedDislike = pd.DataFrame()\n",
    "        predictedset = []\n",
    "        \n",
    "        # selecting new sample of images based on user preferences\n",
    "        for i in range(100):\n",
    "            # try 100 times to get some images that are predicted to be liked if not working\n",
    "            # means that we don't have enough data so we get default images \n",
    "            newImageset = self.datasetImagesEncoded.sample(numberOfImagesMax, ignore_index=True)\n",
    "            \n",
    "            # submitting the sample to the DecisionTree to know of the user would like those images\n",
    "            predictedset = client.predictLikedImages(newImageset.drop([\"file\"], axis=1))\n",
    "\n",
    "            # if we found images that will fit with the user preferences we quit the loop\n",
    "            if any(predictedset):\n",
    "                break\n",
    "        \n",
    "        # decoding the dataset of images to get the real path\n",
    "        newImageset = self.decodeLabels(newImageset)\n",
    "\n",
    "        if any(predictedset): \n",
    "            # separation of the images labeled as likeable and dislikeable \n",
    "            for index, image in newImageset.iterrows():\n",
    "                if predictedset[index] :\n",
    "                    imagesPredictedLike = imagesPredictedLike.append(image)\n",
    "                else:\n",
    "                    imagesPredictedDislike = imagesPredictedDislike.append(image)\n",
    "            \n",
    "            # adding some images labeled as unliked to keep bias \n",
    "            imagesPredictedLike =   imagesPredictedLike if imagesPredictedDislike.empty else imagesPredictedLike.append(imagesPredictedDislike.sample(frac=0.1))  \n",
    "\n",
    "        else: # getting default images \n",
    "            imagesPredictedLike = imagesPredictedLike.append(newImageset)\n",
    "\n",
    "        # parsing the size to int cause the decode methode tranforme our 224 to 224.0 which not exist in path\n",
    "        imagesPredictedLike[\"size\"] = imagesPredictedLike[\"size\"].astype(int)\n",
    "        \n",
    "        # limit the sampling a 10 to avoid presenting the user to much images at the same time\n",
    "        if imagesPredictedLike[\"name\"].size > 10:\n",
    "            imagesPredictedLike = imagesPredictedLike.sample(10)\n",
    "        \n",
    "        # calling the display function to get user preferences\n",
    "        self.getImages(imageslist=imagesPredictedLike, client=client)\n",
    "\n",
    "    \n",
    "\n",
    "\n",
    "## ecrire le rapport \n",
    "        "
   ]
  },
  {
   "cell_type": "markdown",
   "metadata": {},
   "source": [
    "# 4. Use of the system"
   ]
  },
  {
   "cell_type": "markdown",
   "metadata": {},
   "source": [
    "## creation of an instance "
   ]
  },
  {
   "cell_type": "code",
   "execution_count": null,
   "metadata": {},
   "outputs": [],
   "source": [
    "flowers = recommendationSystem(Images=datasetImages.copy())"
   ]
  },
  {
   "cell_type": "markdown",
   "metadata": {},
   "source": [
    "## Creation of an user "
   ]
  },
  {
   "cell_type": "code",
   "execution_count": null,
   "metadata": {},
   "outputs": [],
   "source": [
    "newuser = flowers.createUser(age=20, sex=\"M\", preferredColor=\"red\")"
   ]
  },
  {
   "cell_type": "markdown",
   "metadata": {},
   "source": [
    "# method for a user to ask for new images"
   ]
  },
  {
   "cell_type": "code",
   "execution_count": null,
   "metadata": {},
   "outputs": [],
   "source": [
    "flowers.askNewImages(newuser)"
   ]
  },
  {
   "cell_type": "markdown",
   "metadata": {},
   "source": [
    "# 5. Simulation"
   ]
  },
  {
   "cell_type": "markdown",
   "metadata": {},
   "source": [
    "## Fake user to fill de data base"
   ]
  },
  {
   "cell_type": "code",
   "execution_count": null,
   "metadata": {},
   "outputs": [],
   "source": [
    "flowers = recommendationSystem(Images = datasetImages.copy())\n",
    "\n",
    "## creation of fake users\n",
    "nbFakeUser = 10\n",
    "listFUsers = []\n",
    "for i in range(nbFakeUser):\n",
    "    listFUsers.append(flowers.createSpecialUser(numberOfSimulatedImages=10))\n",
    "\n",
    "print(flowers.listUser)"
   ]
  },
  {
   "cell_type": "code",
   "execution_count": null,
   "metadata": {},
   "outputs": [],
   "source": [
    "# graphviz didn't work on window so I can't get it with decoded names \n",
    "listFUsers[3].printDecisionTree()  "
   ]
  },
  {
   "cell_type": "markdown",
   "metadata": {},
   "source": [
    "## Real user"
   ]
  },
  {
   "cell_type": "code",
   "execution_count": null,
   "metadata": {},
   "outputs": [],
   "source": [
    "realUser = flowers.createUser()"
   ]
  },
  {
   "cell_type": "code",
   "execution_count": null,
   "metadata": {},
   "outputs": [],
   "source": [
    "flowers.askNewImages(realUser)"
   ]
  },
  {
   "cell_type": "code",
   "execution_count": null,
   "metadata": {},
   "outputs": [],
   "source": [
    "realUser.printDecisionTree()"
   ]
  },
  {
   "cell_type": "markdown",
   "metadata": {},
   "source": [
    "# 6. Data Visualisation\n"
   ]
  },
  {
   "cell_type": "code",
   "execution_count": null,
   "metadata": {},
   "outputs": [],
   "source": []
  }
 ],
 "metadata": {
  "interpreter": {
   "hash": "e9654064d96fee6b7b1fd5ca78657b1e057dec1215ad4704aa691944746f5888"
  },
  "kernelspec": {
   "display_name": "Python 3.9.7 ('base')",
   "language": "python",
   "name": "python3"
  },
  "language_info": {
   "codemirror_mode": {
    "name": "ipython",
    "version": 3
   },
   "file_extension": ".py",
   "mimetype": "text/x-python",
   "name": "python",
   "nbconvert_exporter": "python",
   "pygments_lexer": "ipython3",
   "version": "3.9.7"
  },
  "orig_nbformat": 4
 },
 "nbformat": 4,
 "nbformat_minor": 2
}
