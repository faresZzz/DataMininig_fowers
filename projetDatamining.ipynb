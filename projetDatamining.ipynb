{
 "cells": [
  {
   "cell_type": "markdown",
   "metadata": {},
   "source": [
    "# Import of python library\n"
   ]
  },
  {
   "cell_type": "code",
   "execution_count": 1,
   "metadata": {},
   "outputs": [],
   "source": [
    "# system acces\n",
    "import os\n",
    "\n",
    "# data handling during treatment\n",
    "import pandas as pd\n",
    "import numpy as np\n",
    "# model to work with data\n",
    "import sklearn.cluster\n",
    "import math\n",
    "from sklearn.preprocessing import LabelEncoder\n",
    "from sklearn import tree\n",
    "\n",
    "# general use\n",
    "from PIL import Image\n",
    "\n",
    "import random\n",
    "import matplotlib.pyplot as plt\n",
    "\n",
    "## GUI\n",
    "import tkinter as tk\n",
    "from PIL import ImageTk, Image"
   ]
  },
  {
   "cell_type": "markdown",
   "metadata": {},
   "source": [
    "## 1. Creation of the color bank\n"
   ]
  },
  {
   "cell_type": "code",
   "execution_count": 2,
   "metadata": {},
   "outputs": [],
   "source": [
    "\n",
    "# charging the color bank from the CSV file\n",
    "names=[\"Color name\", \"RGB\", \"HEX\"]\n",
    "with open(\"./colorPalette.tsv\", \"r\") as file:\n",
    "    lines = file.read().splitlines()\n",
    "    lines = lines[1:]\n",
    "    for i,line in enumerate(lines):\n",
    "        line = line.split(\"\\t\")\n",
    "        r = int (line[1].split(\",\")[0].split(\"(\")[1])\n",
    "        g = int (line[1].split(\",\")[1])\n",
    "        b = int (line[1].split(\",\")[2].split(\")\")[0])\n",
    "       \n",
    "        line[1] = (r, g, b)\n",
    "        lines[i] = line\n",
    "colorBank = pd.DataFrame(lines, columns=names)   "
   ]
  },
  {
   "cell_type": "code",
   "execution_count": 3,
   "metadata": {},
   "outputs": [],
   "source": [
    "# Normalize to the nearrest color from our color bank to limit the nuances of color (almost infinit with our kmeans method)\n",
    "def distanceCalcul(color1, color2):\n",
    "    return math.sqrt( (color2[0]-color1[0])**2 + (color2[1]-color1[1])**2 + (color2[2]-color1[2])**2)\n",
    "\n",
    "def colorNormalisation(paletteColor: pd.DataFrame , color : tuple) -> str:\n",
    "    distanceMin = math.inf\n",
    "    \n",
    "    for index in paletteColor.index:\n",
    "        distance = distanceCalcul(paletteColor[\"RGB\"][index], color)\n",
    "        if (distance < distanceMin):\n",
    "            distanceMin = distance\n",
    "            colordistancemin = paletteColor[\"Color name\"][index]\n",
    "    \n",
    "    return colordistancemin\n",
    "\n",
    "# print(colorNormalisation(colorPalette, (44, 143,163)))\n"
   ]
  },
  {
   "cell_type": "markdown",
   "metadata": {},
   "source": [
    "# 2. Preparation of the dataset Images\n"
   ]
  },
  {
   "cell_type": "markdown",
   "metadata": {},
   "source": [
    "## Exctraction of the images files\n"
   ]
  },
  {
   "cell_type": "code",
   "execution_count": null,
   "metadata": {},
   "outputs": [],
   "source": [
    "rootDirectory = \"./flowers\"\n",
    "# for all images the path will be rootDirectory / plantName /file  example ./flowers/jpeg-192x192/train/alpine sea holly/11331.jpeg\n",
    "\n",
    "\n",
    "subdir = []\n",
    "informationsOnImages = []\n",
    "for repo, subrepos, files in os.walk(rootDirectory):\n",
    "    subdir.append(subrepos)\n",
    "    # filelist.append(files)\n",
    "\n",
    "print(subdir[0])\n",
    "for dir in subdir[0]:\n",
    "  \n",
    "    # for all images the path will be rootDirectory / plantName /file  || example ./flowers/jpeg-192x192/train/alpine sea holly/11331.jpeg\n",
    "\n",
    "    filelist = []\n",
    "    namelist = []\n",
    "    for repo, subrepos, files in os.walk(\"{}/{}/train\".format(rootDirectory, dir)):\n",
    "        namelist.append(subrepos)\n",
    "        filelist.append(files)\n",
    "\n",
    "    namelist = namelist[0]\n",
    "    filelist = filelist[1:]\n",
    "\n",
    "    \n",
    "    \n",
    "\n",
    "    for name, files  in zip(namelist, filelist):\n",
    "            for i, image in enumerate( files) :\n",
    "                # limite at 10 images by type for the need of the test (4160 images out of 12000)\n",
    "                if i < 10:                                                              \n",
    "                    informationsOnImages.append({\"size\": int(dir[9:]), \"name\":name, \"file\":image, \"color1\":\"\", \"color2\": \"\", \"color3\": \"\"})\n",
    "                else:\n",
    "                    break\n",
    "            \n",
    "datasetImages = pd.DataFrame(informationsOnImages)\n",
    "\n",
    "# datasetImages\n"
   ]
  },
  {
   "cell_type": "markdown",
   "metadata": {},
   "source": [
    "## Extraction of principal colors\n"
   ]
  },
  {
   "cell_type": "code",
   "execution_count": null,
   "metadata": {},
   "outputs": [],
   "source": [
    "\n",
    "nb_cluster = 5\n",
    "for index, row in datasetImages.iterrows():\n",
    "\n",
    "    imgfile = Image.open(\n",
    "        \"{root}/jpeg-{size}x{size}/train/{type}/{file}\".format(\n",
    "            root = rootDirectory,\n",
    "            size = row[\"size\"], \n",
    "            type = row[\"name\"], \n",
    "            file = row[\"file\"]\n",
    "            )\n",
    "        )\n",
    "    \n",
    "    # extraction of 5 main color\n",
    "    numarray = np.array(imgfile.getdata(), np.float64)\n",
    "    clusters = sklearn.cluster.MiniBatchKMeans(n_clusters= nb_cluster)\n",
    "    clusters.fit(numarray)\n",
    "\n",
    "    # ordering the colors\n",
    "    npbins = np.arange(0, nb_cluster + 1)\n",
    "    histogram = np.histogram(clusters.labels_, bins=npbins)\n",
    "    palette = clusters.cluster_centers_\n",
    "    indicesMax = histogram[0].argsort()\n",
    "\n",
    "    # add the 3 main colors normalized into the datasetImage\n",
    "    datasetImages.loc[index, \"color1\"] = colorNormalisation(colorBank, palette[indicesMax[-1]])\n",
    "    datasetImages.loc[index, \"color2\"] = colorNormalisation(colorBank, palette[indicesMax[-2]])\n",
    "    datasetImages.loc[index, \"color3\"] = colorNormalisation(colorBank, palette[indicesMax[-3]])   \n",
    "    imgfile.close() \n",
    "\n",
    "       \n",
    "# datasetImages.head(15)"
   ]
  },
  {
   "cell_type": "markdown",
   "metadata": {},
   "source": [
    "## Save the dataset into json file to avoid making the Kmeans each time\n"
   ]
  },
  {
   "cell_type": "code",
   "execution_count": null,
   "metadata": {},
   "outputs": [],
   "source": [
    "# save the dataframe to json File to avoid having to execute MinibatchKmeans\n",
    "datasetImages.to_json(path_or_buf=\"./data.json\", orient=\"index\")"
   ]
  },
  {
   "cell_type": "markdown",
   "metadata": {},
   "source": [
    "# 3. Creation of the classes\n"
   ]
  },
  {
   "cell_type": "markdown",
   "metadata": {},
   "source": [
    "## To load the Dataset from json file\n"
   ]
  },
  {
   "cell_type": "code",
   "execution_count": 4,
   "metadata": {},
   "outputs": [
    {
     "name": "stdout",
     "output_type": "stream",
     "text": [
      "      size              name        file            color1            color2  \\\n",
      "0      192  alpine sea holly  11331.jpeg        Dark Green         Dark Gray   \n",
      "1      192  alpine sea holly  11562.jpeg  Light Slate Gray           DimGray   \n",
      "2      192  alpine sea holly  12036.jpeg   Dark Slate Gray  Dark Olive Green   \n",
      "3      192  alpine sea holly  12186.jpeg              Gray        Olive Drab   \n",
      "4      192  alpine sea holly  12341.jpeg             Black   Dark Slate Gray   \n",
      "...    ...               ...         ...               ...               ...   \n",
      "4155   512       yellow iris  10404.jpeg             Black  Dark Olive Green   \n",
      "4156   512       yellow iris  10412.jpeg             Black   Dark Slate Gray   \n",
      "4157   512       yellow iris  10417.jpeg        Olive Drab      Yellow Green   \n",
      "4158   512       yellow iris  10536.jpeg   Dark Slate Gray         Goldenrod   \n",
      "4159   512       yellow iris  10590.jpeg  Dark Olive Green  Dark Olive Green   \n",
      "\n",
      "                color3  \n",
      "0           Olive Drab  \n",
      "1               Silver  \n",
      "2                Black  \n",
      "3     Dark Olive Green  \n",
      "4                 Gray  \n",
      "...                ...  \n",
      "4155        Olive Drab  \n",
      "4156              Gold  \n",
      "4157  Dark Olive Green  \n",
      "4158         Sea Green  \n",
      "4159      Yellow Green  \n",
      "\n",
      "[4160 rows x 6 columns]\n"
     ]
    }
   ],
   "source": [
    "# Extract data from json file to load the dataframe with colors\n",
    "datasetImages = pd.read_json(path_or_buf=\"./data.json\", orient=\"index\")\n",
    "print(datasetImages)"
   ]
  },
  {
   "cell_type": "markdown",
   "metadata": {},
   "source": [
    "## Creation of UI\n"
   ]
  },
  {
   "cell_type": "code",
   "execution_count": 5,
   "metadata": {},
   "outputs": [],
   "source": [
    "import tkinter as tk\n",
    "from PIL import ImageTk, Image\n",
    "\n",
    "\n",
    "#Create an object of tkinter ImageTk\n",
    "\n",
    "class GUI:\n",
    "    def __init__(self,path ):\n",
    "        # creation of the window to plot the images\n",
    "        self.i = 0\n",
    "        self.nbImages = len(path)\n",
    "        self.result = []\n",
    "        self.path = path\n",
    "        \n",
    "        self.master = tk.Tk()\n",
    "        self.master.geometry(\"600x600\")\n",
    "        self.master.title(\"A simple GUI\")\n",
    "        \n",
    "\n",
    "        self.labelImageText = tk.Label(self.master, text=\"Do you like it ?\")\n",
    "        self.labelImageText.grid(row= 1, column=2,columnspan=2)\n",
    "  \n",
    "        \n",
    "        self.img = ImageTk.PhotoImage(Image.open(path[self.i]))\n",
    "        self.labelImage = tk.Label(self.master, image = self.img)\n",
    "        self.labelImage.grid(row= 2, column=2,columnspan=2,rowspan=2,sticky='news')\n",
    "        \n",
    "        self.greet_button = tk.Button(self.master, text=\"DISLIKE\", command=self.dislike)\n",
    "        self.greet_button.grid(row= 4, column=2,columnspan=1)\n",
    "\n",
    "        self.close_button = tk.Button(self.master, text=\"LIKE\", command=self.like)\n",
    "        self.close_button.grid(row= 4, column=3,columnspan=1)\n",
    "\n",
    "        self.master.mainloop()\n",
    "\n",
    "    def like (self):\n",
    "        # get the like from user\n",
    "        self.result.append(\"y\")\n",
    "        self.rotation()\n",
    "\n",
    "    def dislike (self):\n",
    "        #get the dislike from user\n",
    "        self.result.append(\"n\")        \n",
    "        self.rotation()\n",
    "        \n",
    "    \n",
    "    def rotation(self): \n",
    "        # check if we got images left or close the window\n",
    "        if self.i < self.nbImages -1:\n",
    "            self.i += 1\n",
    "            self.img = ImageTk.PhotoImage(Image.open(self.path[self.i]))\n",
    "            self.labelImage = tk.Label(self.master, image = self.img)\n",
    "            self.labelImage.grid(row= 2, column=2,columnspan=2,rowspan=2,sticky='news')\n",
    "            \n",
    "        else:\n",
    "            self.master.destroy()"
   ]
  },
  {
   "cell_type": "markdown",
   "metadata": {},
   "source": [
    "# Creation of the users class\n"
   ]
  },
  {
   "cell_type": "code",
   "execution_count": 6,
   "metadata": {},
   "outputs": [],
   "source": [
    "class User:\n",
    "    \n",
    "    def __init__(self, age = None, sex = None, preferredColor=None):\n",
    "\n",
    "        # \"equivalent of java surcharge function\"\n",
    "        # 2 ways to create users \n",
    "        # normal user we ask the user his values as input \n",
    "        # fake user of testing process we can pass values\n",
    "        self.setAge(age)\n",
    "        self.setSex(sex)\n",
    "        self.setPreferredColor(preferredColor)\n",
    "\n",
    "        self.__likedImages = pd.DataFrame()\n",
    "        self.__unlikedImages = pd.DataFrame()\n",
    "        self.__decisionTree = tree.DecisionTreeClassifier()\n",
    "        self.__modelAccuracy = {\"tp\": [], \"fp\":[], \"fn\" : []}\n",
    "\n",
    "    def setAge(self, age=None) -> None:\n",
    "        if age == None:\n",
    "            ok = False\n",
    "            while not ok:\n",
    "                age = input(\"What is your age: \")\n",
    "                if age.isnumeric():\n",
    "                    age = int(age)\n",
    "                    ok = True\n",
    "        \n",
    "        self.__age = age\n",
    "    def setSex(self, sex=None) -> None:\n",
    "        if sex == None:\n",
    "            sex = \"\"\n",
    "            while sex not in (\"M\", \"F\"):\n",
    "                sex = input(\"Please select sex (M/F):\").upper()\n",
    "            \n",
    "        self.__sex = sex\n",
    "\n",
    "\n",
    "    def setPreferredColor(self, preferredColor=None) -> None:\n",
    "        # user can select his preferred color in our colorBank(137 colors)\n",
    "        if preferredColor == None:\n",
    "            print(colorBank[\"Color name\"])\n",
    "            preferredColor = \"\"\n",
    "            while preferredColor not in map(str.lower, colorBank[\"Color name\"].values):\n",
    "                preferredColor = input(\"Please select your preferred color in the list above\").lower()\n",
    "        \n",
    "        self.__preferredColor = preferredColor\n",
    "\n",
    "    def addImagesHistory(self, images:pd.DataFrame, notation:list) -> None:\n",
    "        images = images.reset_index(drop=True)\n",
    "        \n",
    "        for index, image in images.iterrows():\n",
    "            if notation[index] == \"y\":\n",
    "                self.__likedImages = self.__likedImages.append(image)\n",
    "            else:\n",
    "                self.__unlikedImages = self.__unlikedImages.append(image)\n",
    "        self.__likedImages[\"like\"] = 1\n",
    "        self.__unlikedImages[\"like\"] = 0\n",
    "            \n",
    "\n",
    "    def getAge(self) -> int:\n",
    "        return self.__age\n",
    "    \n",
    "    def getSex(self) -> str:\n",
    "        return self.__sex\n",
    "\n",
    "    def getPreferredColor(self)-> str:\n",
    "        return self.__preferredColor\n",
    "\n",
    "    def getLikedImages(self) -> pd.DataFrame:\n",
    "        return self.__likedImages.drop([\"like\"], axis=1).copy()\n",
    "\n",
    "    def getUnlikedImages(self) -> pd.DataFrame:\n",
    "        return self.__unlikedImages.drop([\"like\"], axis=1).copy()    \n",
    "\n",
    "   \n",
    "\n",
    "    def trainDecisionTree(self) -> None:\n",
    "        # creation of the trainset  with the historique of all images that has been view by user\n",
    "        trainImages = self.__likedImages.append(self.__unlikedImages, ignore_index=True)\n",
    "\n",
    "        # shuffle the trainset\n",
    "        trainImages = trainImages.iloc[np.random.permutation(len (trainImages))]\n",
    "\n",
    "        # get the result from the trainset (1 or 0 for lliked or disliked)\n",
    "        result = trainImages[\"like\"]\n",
    "\n",
    "        # drop the columns that doesn't count in the fitting\n",
    "        trainImages = trainImages.drop([\"file\", \"like\"], axis=1)\n",
    "        trainImages = trainImages.reset_index(drop=True)\n",
    "\n",
    "        # fitting\n",
    "        self.__decisionTree = self.__decisionTree.fit(trainImages, result)\n",
    "\n",
    "    def printDecisionTree(self) -> None:\n",
    "\n",
    "        fig = plt.figure(figsize=(25,20))\n",
    "        _ = tree.plot_tree(self.__decisionTree, \n",
    "                   feature_names=[\"size\", \"name\", \"color1\", \"color2\", \"color3\"],  \n",
    "                   class_names=[\"unliked\", \"liked\"],\n",
    "                   filled=True)\n",
    "\n",
    "\n",
    "\n",
    "    def predictLikedImages(self, images) -> list:\n",
    "        # make a prediction on like or not of the images presented\n",
    "        return self.__decisionTree.predict(images)\n",
    "\n",
    "    def setModelAccuracy(self, tp, fp, fn) -> None:\n",
    "        self.__modelAccuracy[\"tp\"].append(tp)\n",
    "        self.__modelAccuracy[\"fp\"].append(fp)\n",
    "        self.__modelAccuracy[\"fn\"].append(fn)\n",
    "    \n",
    "    def getMetrics(self) -> dict :\n",
    "        return self.__modelAccuracy\n",
    "        \n",
    "    def getScore(self) -> dict:\n",
    "        tp = self.__modelAccuracy[\"tp\"][-1]\n",
    "        fp = self.__modelAccuracy[\"fp\"][-1]\n",
    "        fn = self.__modelAccuracy[\"fn\"][-1]\n",
    "        p = tp / (tp + fp)\n",
    "        r = tp / (tp + fn)\n",
    "        return {\"precision\": p, \"recall\" : r, \"f1\": 2 * (p * r)/(p + r)}\n"
   ]
  },
  {
   "cell_type": "markdown",
   "metadata": {},
   "source": [
    "# Creation of the recommendation System\n"
   ]
  },
  {
   "cell_type": "code",
   "execution_count": 7,
   "metadata": {},
   "outputs": [],
   "source": [
    "class RecommendationSystem:\n",
    "    def __init__(self, Images: pd.DataFrame):\n",
    "        self.listUser = pd.DataFrame()\n",
    "        self.datasetImages = Images\n",
    "        self.LabelEncoder = self.createLabelEncoder()\n",
    "        self.datasetImagesEncoded = self.fitEncodeLabels(self.datasetImages.copy())\n",
    "        self.fitEncodeResults([\"n\", \"y\"])\n",
    "\n",
    "    ## functions to code and decode the pd.DataFrame \n",
    "    def createLabelEncoder(self) -> None:\n",
    "        leName = LabelEncoder()\n",
    "        leTaille = LabelEncoder()\n",
    "        leColor1 = LabelEncoder()\n",
    "        leColor2= LabelEncoder()\n",
    "        leColor3 = LabelEncoder()\n",
    "        leResult = LabelEncoder()\n",
    "        return {\n",
    "            \"name\" : leName, \n",
    "            \"size\" : leTaille, \n",
    "            \"color1\" : leColor1, \n",
    "            \"color2\" : leColor2, \n",
    "            \"color3\" : leColor3, \n",
    "            \"result\" : leResult\n",
    "            }\n",
    "\n",
    "\n",
    "    def fitEncodeLabels(self, sets:pd.DataFrame) -> pd.DataFrame:\n",
    "        sets[\"name\"] = self.LabelEncoder[\"name\"].fit_transform(sets[\"name\"])\n",
    "        sets[\"size\"] = self.LabelEncoder[\"size\"].fit_transform(sets[\"size\"])\n",
    "        sets[\"color1\"] = self.LabelEncoder[\"color1\"].fit_transform(sets[\"color1\"])\n",
    "        sets[\"color2\"] = self.LabelEncoder[\"color2\"].fit_transform(sets[\"color2\"])\n",
    "        sets[\"color3\"] = self.LabelEncoder[\"color3\"].fit_transform(sets[\"color3\"])\n",
    "\n",
    "        return sets\n",
    "\n",
    "    def fitEncodeResults(self, result: list) -> None:\n",
    "        self.LabelEncoder[\"result\"].fit_transform(result)\n",
    "\n",
    "    \n",
    "    def encodeLabels(self, sets:pd.DataFrame) -> pd.DataFrame:\n",
    "        sets[\"name\"] = self.LabelEncoder[\"name\"].transform(sets[\"name\"])\n",
    "        sets[\"size\"] = self.LabelEncoder[\"size\"].transform(sets[\"size\"])\n",
    "        sets[\"color1\"] = self.LabelEncoder[\"color1\"].transform(sets[\"color1\"])\n",
    "        sets[\"color2\"] = self.LabelEncoder[\"color2\"].transform(sets[\"color2\"])\n",
    "        sets[\"color3\"] = self.LabelEncoder[\"color3\"].transform(sets[\"color3\"])\n",
    "\n",
    "        return sets\n",
    "\n",
    "    def decodeLabels(self,sets:pd.DataFrame ) -> pd.DataFrame:\n",
    "        sets[\"name\"] = self.LabelEncoder[\"name\"].inverse_transform(sets[\"name\"].astype(int))\n",
    "        sets[\"size\"] = self.LabelEncoder[\"size\"].inverse_transform(sets[\"size\"].astype(int))\n",
    "        sets[\"color1\"] = self.LabelEncoder[\"color1\"].inverse_transform(sets[\"color1\"].astype(int))\n",
    "        sets[\"color2\"] = self.LabelEncoder[\"color2\"].inverse_transform(sets[\"color2\"].astype(int))\n",
    "        sets[\"color3\"] = self.LabelEncoder[\"color3\"].inverse_transform(sets[\"color3\"].astype(int))\n",
    "\n",
    "        return sets\n",
    "\n",
    "    def encodeResults(self, result: list) -> list:\n",
    "        return self.LabelEncoder[\"result\"].transform(result)\n",
    "\n",
    "    def decodeResults(self, result:list) -> list:\n",
    "        return self.LabelEncoder[\"result\"].inverse_transform(result)\n",
    "\n",
    "    def addUserToList(self, newUser:User):\n",
    "        # for add an user to our data base\n",
    "        self.listUser = self.listUser.append(pd.DataFrame([\n",
    "                {\n",
    "                    \"user\": newUser,\n",
    "                    \"age\":newUser.getAge(), \n",
    "                    \"sex\": newUser.getSex(), \n",
    "                    \"color\": newUser.getPreferredColor()\n",
    "                }\n",
    "            ]), ignore_index=True)\n",
    "\n",
    "    def createSpecialUser(self, numberOfSimulatedImages = 30)-> User:\n",
    "        #creation of the user\n",
    "        age = random.randint(10,90),\n",
    "        sex = random.choice([\"M\", \"F\"])\n",
    "        preferredColor = random.choice(colorBank[\"Color name\"])\n",
    "        newUser = User(age=age[0], sex=sex, preferredColor=preferredColor)\n",
    "        self.addUserToList(newUser=newUser)\n",
    "        \n",
    "        # simulate the choice of numberOfSimulatedImages images\n",
    "        imageslist = self.datasetImagesEncoded.sample(numberOfSimulatedImages)\n",
    "        result = random.choices([\"y\", \"n\"] , k=numberOfSimulatedImages)\n",
    "        \n",
    "        # add alls theses images to the history of the user\n",
    "        newUser.addImagesHistory(imageslist, result)\n",
    "        # train the Decision tree \n",
    "        newUser.trainDecisionTree()\n",
    "        return newUser\n",
    "   \n",
    "    def createUser(self) -> User:\n",
    "        # create the user parsing parameter for the false user or the test\n",
    "        newUser = User()\n",
    "        # ask the user a first round of images\n",
    "        self.askFirstImages(newUser)\n",
    "        # add the user to our database of users\n",
    "        self.addUserToList(newUser=newUser)\n",
    "        return newUser\n",
    "\n",
    "\n",
    "    def getImages(self, imageslist) -> list:\n",
    "        \n",
    "        rootDirectory = \"./flowers\"\n",
    "        path = []\n",
    "        result = []\n",
    "        for index, image in imageslist.iterrows():\n",
    "            # opening each images to propose to the user\n",
    "            path.append( \"{root}/jpeg-{size}x{size}/train/{type}/{file}\".format(\n",
    "                    root = rootDirectory,\n",
    "                    size = image[\"size\"], \n",
    "                    type = image[\"name\"], \n",
    "                    file = image[\"file\"]\n",
    "                    ))\n",
    "        \n",
    "\n",
    "        my_gui = GUI(path)\n",
    "        \n",
    "        result = my_gui.result\n",
    "        return result\n",
    "\n",
    "    def askFirstImages(self, client:User) -> None:\n",
    "        firstImages = pd.DataFrame()\n",
    "        age = client.getAge()\n",
    "        sex = client.getSex()\n",
    "\n",
    "        # selecting a sample of images to present to the user for the first time \n",
    "        try:\n",
    "            # can add the preferred color \n",
    "            # could be better not to selected directly in people with the same age and sex but to do\n",
    "            # a collaborative filtering, but real data are needed for this king of ML random data will give \n",
    "            # absurd values\n",
    "            similarUsers = self.listUser[( abs(self.listUser[\"age\"]-age) < 5 ) & (self.listUser[\"sex\"] == sex)]\n",
    "            for user in similarUsers:\n",
    "                firstImages = firstImages.append(user.getLikedImages())\n",
    "\n",
    "            if len(firstImages[\"file\"]) > 15:\n",
    "                firstImages = firstImages.sample(15)\n",
    "\n",
    "        except:\n",
    "            firstImages = self.datasetImagesEncoded.sample(15)\n",
    "\n",
    "        # decoding the table to can be able to get the path\n",
    "        imageslist = self.decodeLabels(firstImages)\n",
    "        \n",
    "         # calling the display function to get user preferences\n",
    "        result = self.getImages(imageslist=imageslist)\n",
    "\n",
    "        # recode the images to give to the fitting function\n",
    "        imageslist = self.encodeLabels(imageslist)\n",
    "        # add alls theses images to the history of the user\n",
    "        client.addImagesHistory(firstImages, result)\n",
    "        # train the Decision tree \n",
    "        client.trainDecisionTree()\n",
    "        \n",
    "        # init the accuracy\n",
    "        client.setModelAccuracy(tp = 0, fp = 0, fn = 0 )\n",
    "\n",
    "    \n",
    "\n",
    "    def askNewImages(self, client: User, numberOfImagesMax = 10) -> None:\n",
    "        imagesPredictedLike = pd.DataFrame()\n",
    "        imagesPredictedDislike = pd.DataFrame()\n",
    "        predictedset = []\n",
    "        \n",
    "        # selecting new sample of images based on user preferences\n",
    "        for i in range(100):\n",
    "            # try 100 times to get some images that are predicted to be liked if not working\n",
    "            # means that we don't have enough data so we get default images \n",
    "            newImageset = self.datasetImagesEncoded.sample(numberOfImagesMax, ignore_index=True)\n",
    "            \n",
    "            # submitting the sample to the DecisionTree to know of the user would like those images\n",
    "            predictedset = client.predictLikedImages(newImageset.drop([\"file\"], axis=1))\n",
    "\n",
    "            # if we found images that will fit with the user preferences we quit the loop\n",
    "            if any(predictedset):\n",
    "                break\n",
    "        \n",
    "        # decoding the dataset of images to get the real path\n",
    "        newImageset = self.decodeLabels(newImageset)\n",
    "    \n",
    "        if any(predictedset): \n",
    "            # separation of the images labeled as likeable and dislikeable \n",
    "            for index, image in newImageset.iterrows():\n",
    "                if predictedset[index] :\n",
    "                    imagesPredictedLike = imagesPredictedLike.append(image)\n",
    "                else:\n",
    "                    imagesPredictedDislike = imagesPredictedDislike.append(image)\n",
    "            \n",
    "            # adding some images labeled as unliked to keep bias \n",
    "            imagesPredictedLike =   imagesPredictedLike if imagesPredictedDislike.empty else imagesPredictedLike.append(imagesPredictedDislike.sample(frac=0.1))  \n",
    "\n",
    "        else: # getting default images \n",
    "            imagesPredictedLike = imagesPredictedLike.append(newImageset)\n",
    "\n",
    "\n",
    "        predictedset = client.predictLikedImages(self.encodeLabels(imagesPredictedLike.drop([\"file\"], axis=1)))\n",
    "        print(predictedset)\n",
    "        \n",
    "\n",
    "        # parsing the size to int cause the decode methode transform our 224 to 224.0 which not exist in path\n",
    "        imagesPredictedLike[\"size\"] = imagesPredictedLike[\"size\"].astype(int)\n",
    "        \n",
    "        # limit the sampling a 10 to avoid presenting the user to much images at the same time\n",
    "        if imagesPredictedLike[\"name\"].size > 10:\n",
    "            imagesPredictedLike = imagesPredictedLike.sample(10)\n",
    "        \n",
    "        \n",
    "        # calling the display function to get user preferences\n",
    "        result = self.getImages(imageslist=imagesPredictedLike)\n",
    "\n",
    "         # recode the images to give to the fitting function\n",
    "        imageslist = self.encodeLabels(imagesPredictedLike)\n",
    "        # add alls theses images to the history of the user\n",
    "        client.addImagesHistory(imageslist, result)\n",
    "        # train the Decision tree \n",
    "        client.trainDecisionTree()\n",
    "        \n",
    "        # calcul of the metrics\n",
    "        tp, fp, fn = self.evaluate(result, self.decodeResults(predictedset), client.getMetrics())\n",
    "        client.setModelAccuracy(tp = tp, fp = fp, fn = fn )\n",
    "\n",
    "\n",
    "    def evaluate(self, result, prediction, oldMetrics) -> int:\n",
    "        # evaluate method can be perform uniquely on real users\n",
    "        # Didn't make sens to evaluate score on random data\n",
    "        tp = oldMetrics[\"tp\"][-1]\n",
    "        fp = oldMetrics[\"fp\"][-1]\n",
    "        fn = oldMetrics[\"fn\"][-1]\n",
    "\n",
    "        for res, pred in zip (result, prediction):\n",
    "            if res == \"y\" and pred == \"y\": # true positive\n",
    "                tp+=1\n",
    "            elif res == \"y\" and pred == \"n\": # false negative\n",
    "                fn +=1\n",
    "            elif res == \"n\" and pred == \"y\": # false positive\n",
    "                fp += 1\n",
    "\n",
    "        return tp, fp, fn\n",
    "\n",
    "         \n",
    "        \n",
    "    def saveUsers(self) -> None : \n",
    "        # getting user list\n",
    "        save = self.listUser.copy()\n",
    "        save.insert(0, \"userId\" ,save.index)\n",
    "        save = save.reset_index()\n",
    "\n",
    "        linkDict =  {\"idUser\": [], \"idImage\": [], \"like\": []} # user, images, like=1, dislike=0\n",
    "\n",
    "        # for each user we extract the images that he liked and disliked to create a link table \n",
    "        # users and images \n",
    "        for indexUser,  user in save.iterrows():\n",
    "            for indexImages, image in (self.decodeLabels( user[\"user\"].getLikedImages())).iterrows():\n",
    "                # index of un image in datasetImage when images is liked by user\n",
    "                imageID = self.datasetImages[\n",
    "                   (self.datasetImages[\"size\"] == image[\"size\"])  &\n",
    "                   (self.datasetImages[\"name\"] == image[\"name\"])  &\n",
    "                   (self.datasetImages[\"file\"] == image[\"file\"])  \n",
    "                   ].index[0]\n",
    "\n",
    "                linkDict[\"idUser\"].append( user[\"userId\"])\n",
    "                linkDict[\"idImage\"].append( imageID)\n",
    "                linkDict[\"like\"].append(1)\n",
    "\n",
    "\n",
    "            for indexImages, image in (self.decodeLabels( user[\"user\"].getUnlikedImages())).iterrows():\n",
    "                # index of un image in datasetImage when images is disliked by user\n",
    "                imageID = self.datasetImages[\n",
    "                   (self.datasetImages[\"size\"] == image[\"size\"])  &\n",
    "                   (self.datasetImages[\"name\"] == image[\"name\"])  &\n",
    "                   (self.datasetImages[\"file\"] == image[\"file\"])  \n",
    "                   ].index[0]\n",
    "\n",
    "                linkDict[\"idUser\"].append( user[\"userId\"])\n",
    "                linkDict[\"idImage\"].append( imageID)\n",
    "                linkDict[\"like\"].append(0)\n",
    "\n",
    "        linkTable = pd.DataFrame(linkDict)\n",
    "\n",
    "        # cleaning of useless information\n",
    "        save = save.drop([\"user\", \"index\"], axis=1)\n",
    "        \n",
    "        # save users and Table link to json\n",
    "        save.to_json(path_or_buf=\"./users.json\", orient=\"index\")\n",
    "        linkTable.to_json(path_or_buf=\"./linkTable.json\", orient=\"index\")\n",
    "        \n",
    "    def loadUsers(self) -> None:\n",
    "        # Extract data from json file to load the dataframe with colors\n",
    "        users = pd.read_json(path_or_buf=\"./users.json\", orient=\"index\")\n",
    "        link = pd.read_json(path_or_buf=\"./linkTable.json\", orient=\"index\")\n",
    "        if not users.empty:\n",
    "            pd.options.mode.chained_assignment = None # avoir warning message not usefull\n",
    "\n",
    "            # linking each user to his images \n",
    "            for indexUser, user in users.iterrows():\n",
    "                # extraction of the images likes by user\n",
    "                imagesLikes = self.datasetImages.iloc[\n",
    "                    link[\"idImage\"][\n",
    "                        (link['idUser'] == user[\"userId\"]) &\n",
    "                        (link['like'] == 1)\n",
    "                    ]\n",
    "                ]\n",
    "\n",
    "                imagesDislikes = self.datasetImages.iloc[\n",
    "                    link[\"idImage\"][\n",
    "                        (link['idUser'] == user[\"userId\"]) &\n",
    "                        (link['like'] == 0)\n",
    "                    ]\n",
    "                ]\n",
    "\n",
    "            \n",
    "\n",
    "                #creation of a new User and add it to the model Dataframe\n",
    "                age = user[\"age\"]\n",
    "                sex = user[\"sex\"]\n",
    "                preferredColor = user[\"color\"]\n",
    "\n",
    "                newUser = User(age=age, sex=sex, preferredColor=preferredColor)\n",
    "\n",
    "                newUser.addImagesHistory(images=self.encodeLabels(imagesLikes), notation=[\"y\"]*len(imagesLikes))\n",
    "                newUser.addImagesHistory(images=self.encodeLabels(imagesDislikes), notation=[\"n\"]*len(imagesDislikes))\n",
    "                \n",
    "                self.addUserToList(newUser=newUser)\n",
    "                newUser.trainDecisionTree()\n",
    "\n",
    "            \n",
    "            \n",
    "            \n",
    "\n",
    "        "
   ]
  },
  {
   "cell_type": "markdown",
   "metadata": {},
   "source": [
    "# 4. Use of the system"
   ]
  },
  {
   "cell_type": "markdown",
   "metadata": {},
   "source": [
    "## creation of an instance "
   ]
  },
  {
   "cell_type": "code",
   "execution_count": null,
   "metadata": {},
   "outputs": [],
   "source": [
    "example = RecommendationSystem(Images=datasetImages.copy())"
   ]
  },
  {
   "cell_type": "markdown",
   "metadata": {},
   "source": [
    "## Creation of an user "
   ]
  },
  {
   "cell_type": "code",
   "execution_count": null,
   "metadata": {},
   "outputs": [],
   "source": [
    "newuser = example.createUser()"
   ]
  },
  {
   "cell_type": "markdown",
   "metadata": {},
   "source": [
    "# method for a user to ask for new images"
   ]
  },
  {
   "cell_type": "code",
   "execution_count": null,
   "metadata": {},
   "outputs": [],
   "source": [
    "example.askNewImages(newuser, numberOfImagesMax=10)"
   ]
  },
  {
   "cell_type": "markdown",
   "metadata": {},
   "source": [
    "## to get the metrics and score of the user"
   ]
  },
  {
   "cell_type": "code",
   "execution_count": null,
   "metadata": {},
   "outputs": [],
   "source": [
    "newuser.getMetrics()\n",
    "newuser.getScore()"
   ]
  },
  {
   "cell_type": "markdown",
   "metadata": {},
   "source": [
    "## method to save and load users"
   ]
  },
  {
   "cell_type": "code",
   "execution_count": null,
   "metadata": {},
   "outputs": [],
   "source": [
    "example.saveUsers()\n",
    "example.loadUsers()"
   ]
  },
  {
   "cell_type": "markdown",
   "metadata": {},
   "source": [
    "# 5. Simulation"
   ]
  },
  {
   "cell_type": "markdown",
   "metadata": {},
   "source": [
    "## Fake user to fill de data base"
   ]
  },
  {
   "cell_type": "code",
   "execution_count": 8,
   "metadata": {},
   "outputs": [],
   "source": [
    "# creation of the model\n",
    "flowers = RecommendationSystem(Images = datasetImages.copy())"
   ]
  },
  {
   "cell_type": "code",
   "execution_count": 9,
   "metadata": {},
   "outputs": [],
   "source": [
    "# recovery of the users \n",
    "flowers.loadUsers()"
   ]
  },
  {
   "cell_type": "code",
   "execution_count": 10,
   "metadata": {},
   "outputs": [],
   "source": [
    "\n",
    "## creation of fake users\n",
    "nbFakeUser = 20\n",
    "listFUsers = []\n",
    "for i in range(nbFakeUser):\n",
    "    listFUsers.append(flowers.createSpecialUser(numberOfSimulatedImages=30))\n",
    "\n",
    "# print(flowers.listUser)"
   ]
  },
  {
   "cell_type": "code",
   "execution_count": null,
   "metadata": {},
   "outputs": [],
   "source": [
    "# ploting of the Decision Tree Classifier\n",
    "flowers.listUser[\"user\"][0].printDecisionTree()\n"
   ]
  },
  {
   "cell_type": "markdown",
   "metadata": {},
   "source": [
    "## Real user"
   ]
  },
  {
   "cell_type": "code",
   "execution_count": 47,
   "metadata": {},
   "outputs": [
    {
     "name": "stdout",
     "output_type": "stream",
     "text": [
      "0           Maroon\n",
      "1          DarkRed\n",
      "2       Fire Brick\n",
      "3              Red\n",
      "4           Salmon\n",
      "          ...     \n",
      "132         Silver\n",
      "133     Light Grey\n",
      "134      Gainsboro\n",
      "135    White Smoke\n",
      "136          White\n",
      "Name: Color name, Length: 137, dtype: object\n"
     ]
    }
   ],
   "source": [
    "realUser = flowers.createUser()"
   ]
  },
  {
   "cell_type": "code",
   "execution_count": 50,
   "metadata": {},
   "outputs": [
    {
     "name": "stdout",
     "output_type": "stream",
     "text": [
      "[1 1 1 1 1 1 1 1 1 1]\n"
     ]
    }
   ],
   "source": [
    "flowers.askNewImages(realUser)"
   ]
  },
  {
   "cell_type": "code",
   "execution_count": null,
   "metadata": {},
   "outputs": [],
   "source": [
    "realUser.printDecisionTree()"
   ]
  },
  {
   "cell_type": "code",
   "execution_count": null,
   "metadata": {},
   "outputs": [],
   "source": [
    "realUser.getScore()"
   ]
  },
  {
   "cell_type": "code",
   "execution_count": 11,
   "metadata": {},
   "outputs": [
    {
     "ename": "NameError",
     "evalue": "name 'realUser' is not defined",
     "output_type": "error",
     "traceback": [
      "\u001b[1;31m---------------------------------------------------------------------------\u001b[0m",
      "\u001b[1;31mNameError\u001b[0m                                 Traceback (most recent call last)",
      "\u001b[1;32m~\\AppData\\Local\\Temp/ipykernel_44700/3651842877.py\u001b[0m in \u001b[0;36m<module>\u001b[1;34m\u001b[0m\n\u001b[0;32m      1\u001b[0m \u001b[1;31m# ploting the evolution of the decisions tree score for a user\u001b[0m\u001b[1;33m\u001b[0m\u001b[1;33m\u001b[0m\u001b[0m\n\u001b[1;32m----> 2\u001b[1;33m \u001b[0mmetrics\u001b[0m \u001b[1;33m=\u001b[0m \u001b[0mrealUser\u001b[0m\u001b[1;33m.\u001b[0m\u001b[0mgetMetrics\u001b[0m\u001b[1;33m(\u001b[0m\u001b[1;33m)\u001b[0m\u001b[1;33m\u001b[0m\u001b[1;33m\u001b[0m\u001b[0m\n\u001b[0m\u001b[0;32m      3\u001b[0m \u001b[0mprecision\u001b[0m \u001b[1;33m=\u001b[0m \u001b[1;33m[\u001b[0m\u001b[1;36m0\u001b[0m\u001b[1;33m]\u001b[0m\u001b[1;33m\u001b[0m\u001b[1;33m\u001b[0m\u001b[0m\n\u001b[0;32m      4\u001b[0m \u001b[0mrecall\u001b[0m \u001b[1;33m=\u001b[0m \u001b[1;33m[\u001b[0m\u001b[1;36m0\u001b[0m\u001b[1;33m]\u001b[0m\u001b[1;33m\u001b[0m\u001b[1;33m\u001b[0m\u001b[0m\n\u001b[0;32m      5\u001b[0m \u001b[0mf1\u001b[0m \u001b[1;33m=\u001b[0m \u001b[1;33m[\u001b[0m\u001b[1;36m0\u001b[0m\u001b[1;33m]\u001b[0m\u001b[1;33m\u001b[0m\u001b[1;33m\u001b[0m\u001b[0m\n",
      "\u001b[1;31mNameError\u001b[0m: name 'realUser' is not defined"
     ]
    }
   ],
   "source": [
    "# ploting the evolution of the decisions tree score for a user\n",
    "metrics = realUser.getMetrics()\n",
    "precision = [0]\n",
    "recall = [0]\n",
    "f1 = [0]\n",
    "# extraction of all the scores\n",
    "for i in range (1, len(metrics[\"tp\"])):\n",
    "    tp = metrics['tp'][i]\n",
    "    fp = metrics['fp'][i]\n",
    "    fn = metrics['fn'][i]\n",
    "    p = tp / (tp + fp)\n",
    "    r = tp / (tp + fn)\n",
    "    f = 2 * (p * r)/(p + r)\n",
    "\n",
    "    precision.append(p)\n",
    "    recall.append(r)\n",
    "    f1.append(f)\n",
    "\n",
    "\n",
    "\n",
    "# ploting of scores\n",
    "\n",
    "# precision\n",
    "plt.subplot(1, 3, 1)\n",
    "plt.plot(precision, color=\"blue\")\n",
    "plt.xlabel(\"iteration\")\n",
    "plt.title(\" Precision evolution\")\n",
    "\n",
    "\n",
    "\n",
    "\n",
    "# recall\n",
    "plt.subplot(1, 3, 2)\n",
    "plt.plot(precision, color=\"red\")\n",
    "plt.xlabel(\"iteration\")\n",
    "plt.title(\" Recall evolution\")\n",
    "\n",
    "\n",
    "# f1\n",
    "plt.subplot(1, 3, 3)\n",
    "plt.plot(precision, color=\"green\")\n",
    "plt.xlabel(\"iteration\")\n",
    "plt.title(\" F1 evolution\")\n",
    "\n",
    "plt.show()\n"
   ]
  },
  {
   "cell_type": "code",
   "execution_count": null,
   "metadata": {},
   "outputs": [],
   "source": [
    "flowers.saveData()"
   ]
  },
  {
   "cell_type": "markdown",
   "metadata": {},
   "source": [
    "# 6. Data Visualisation\n"
   ]
  },
  {
   "cell_type": "code",
   "execution_count": 15,
   "metadata": {},
   "outputs": [],
   "source": [
    "workingset = flowers.listUser.copy()\n"
   ]
  },
  {
   "cell_type": "markdown",
   "metadata": {},
   "source": [
    "## Average age "
   ]
  },
  {
   "cell_type": "code",
   "execution_count": 16,
   "metadata": {},
   "outputs": [
    {
     "name": "stdout",
     "output_type": "stream",
     "text": [
      "51.8\n",
      "sex\n",
      "F    53.333333\n",
      "M    50.105263\n",
      "Name: age, dtype: float64\n"
     ]
    }
   ],
   "source": [
    "\n",
    "averageAge = workingset[\"age\"].mean()\n",
    "print(averageAge)\n",
    "\n",
    "\n",
    "averageAgeBySex = workingset.groupby(\"sex\")[\"age\"].mean()\n",
    "\n",
    "print(averageAgeBySex)\n"
   ]
  },
  {
   "cell_type": "markdown",
   "metadata": {},
   "source": [
    "## count number of user by age and sex"
   ]
  },
  {
   "cell_type": "code",
   "execution_count": 17,
   "metadata": {},
   "outputs": [
    {
     "data": {
      "image/png": "[encoded data removed]",
      "text/plain": [
       "<Figure size 2880x1800 with 2 Axes>"
      ]
     },
     "metadata": {
      "needs_background": "light"
     },
     "output_type": "display_data"
    }
   ],
   "source": [
    "usersBySexAge = workingset.groupby([\"sex\", \"age\"]).count().unstack('sex')[\"user\"]\n",
    "\n",
    "fig, axes = plt.subplots(nrows=2, ncols=1, figsize=(40, 25))\n",
    "males = usersBySexAge[\"M\"].dropna()\n",
    "males.plot(x = \"age\", y=\"M\", kind=\"bar\", title=\"Males\", ax = axes[0])\n",
    "females = usersBySexAge[\"F\"].dropna()\n",
    "females.plot(x = \"age\", y=\"F\", kind=\"bar\", title=\"Female\", ax = axes[1])\n",
    "plt.show()"
   ]
  },
  {
   "cell_type": "markdown",
   "metadata": {},
   "source": [
    "## Preferred Colors\n"
   ]
  },
  {
   "cell_type": "code",
   "execution_count": 18,
   "metadata": {},
   "outputs": [
    {
     "data": {
      "image/png": "[encoded data removed]",
      "text/plain": [
       "<Figure size 432x288 with 1 Axes>"
      ]
     },
     "metadata": {
      "needs_background": "light"
     },
     "output_type": "display_data"
    }
   ],
   "source": [
    "userPreferredColors = workingset['color'].value_counts()\n",
    "bar = userPreferredColors.iloc[:10].plot(kind = \"bar\")\n",
    "plt.show()"
   ]
  },
  {
   "cell_type": "markdown",
   "metadata": {},
   "source": [
    "## Most Represented Color in our dataset Images\n"
   ]
  },
  {
   "cell_type": "code",
   "execution_count": 20,
   "metadata": {},
   "outputs": [
    {
     "name": "stdout",
     "output_type": "stream",
     "text": [
      "               index  color1\n",
      "0              Black    1202\n",
      "1   Dark Olive Green     712\n",
      "2    Dark Slate Gray     428\n",
      "3            DimGray     212\n",
      "4         Dark Green     158\n",
      "..               ...     ...\n",
      "89             other       1\n",
      "90             other       1\n",
      "91             other       1\n",
      "92             other       1\n",
      "93             other       1\n",
      "\n",
      "[94 rows x 2 columns]\n"
     ]
    },
    {
     "data": {
      "image/png": "[encoded data removed]",
      "text/plain": [
       "<Figure size 2160x1440 with 3 Axes>"
      ]
     },
     "metadata": {},
     "output_type": "display_data"
    }
   ],
   "source": [
    "fig = plt.figure(figsize=(30, 20)) \n",
    "maincolor = pd.DataFrame( datasetImages[\"color1\"].value_counts()).reset_index()\n",
    "secondcolor = pd.DataFrame( datasetImages[\"color2\"].value_counts()).reset_index()\n",
    "thirdcolor = pd.DataFrame( datasetImages[\"color3\"].value_counts()).reset_index()\n",
    "\n",
    "colors = [maincolor, secondcolor, thirdcolor]\n",
    "for i, colo in enumerate(colors):\n",
    "    ax1 = plt.subplot(3, 1, i+1)\n",
    "    colo.loc[ colo[\"color\" +str(i+1)] <100, 'index' ] = \"other\"\n",
    "    colo = colo.groupby('index')[\"color\" +str(i+1)].sum().reset_index()\n",
    "\n",
    "    plt.pie(x=colo[\"color\" +str(i+1)], labels= colo[\"index\"], autopct=\"%.1f%%\")\n",
    "    plt.legend(loc=\"best\", bbox_to_anchor=(2.5,0), title=\"Colors\")\n",
    "\n",
    "print(maincolor)"
   ]
  }
 ],
 "metadata": {
  "interpreter": {
   "hash": "e9654064d96fee6b7b1fd5ca78657b1e057dec1215ad4704aa691944746f5888"
  },
  "kernelspec": {
   "display_name": "Python 3.9.7 ('base')",
   "language": "python",
   "name": "python3"
  },
  "language_info": {
   "codemirror_mode": {
    "name": "ipython",
    "version": 3
   },
   "file_extension": ".py",
   "mimetype": "text/x-python",
   "name": "python",
   "nbconvert_exporter": "python",
   "pygments_lexer": "ipython3",
   "version": "3.9.7"
  },
  "orig_nbformat": 4
 },
 "nbformat": 4,
 "nbformat_minor": 2
}
